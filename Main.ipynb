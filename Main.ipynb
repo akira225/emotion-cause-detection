{
 "cells": [
  {
   "cell_type": "code",
   "execution_count": 1,
   "id": "fc1b600c",
   "metadata": {
    "ExecuteTime": {
     "end_time": "2023-05-30T01:12:35.301551Z",
     "start_time": "2023-05-30T01:12:32.973431Z"
    }
   },
   "outputs": [],
   "source": [
    "import datasets\n",
    "from datasets import Dataset\n",
    "import torch\n",
    "from torch.utils.data import DataLoader\n",
    "from torch.nn.functional import cross_entropy, sigmoid, softmax\n",
    "from torch.optim import Adam\n",
    "import transformers\n",
    "from transformers import AutoTokenizer, AutoModelForTokenClassification, AutoModelForSequenceClassification\n",
    "from transformers.models.roberta.modeling_roberta import RobertaClassificationHead\n",
    "import numpy as np\n",
    "import pandas as pd\n",
    "import json\n",
    "import random\n",
    "from sklearn.model_selection import train_test_split\n",
    "from sklearn.metrics import confusion_matrix, ConfusionMatrixDisplay, classification_report\n",
    "import matplotlib.pyplot as plt\n",
    "from tqdm import tqdm\n",
    "import evaluate\n",
    "import pickle"
   ]
  },
  {
   "cell_type": "markdown",
   "id": "d0234f96",
   "metadata": {},
   "source": [
    "**Конфигурация**"
   ]
  },
  {
   "cell_type": "code",
   "execution_count": 2,
   "id": "209b2705",
   "metadata": {
    "ExecuteTime": {
     "end_time": "2023-05-30T01:12:35.361550Z",
     "start_time": "2023-05-30T01:12:35.354417Z"
    }
   },
   "outputs": [],
   "source": [
    "max_snt_len = 256\n",
    "models = [\n",
    "    '''michellejieli/emotion_text_classifier''',\n",
    "    '''microsoft/deberta-v3-base''',\n",
    "    '''sileod/deberta-v3-base-tasksource-nli''',\n",
    "    '''microsoft/deberta-v3-xsmall'''\n",
    "]\n",
    "model_id = 2\n",
    "model_name = models[model_id]"
   ]
  },
  {
   "cell_type": "markdown",
   "id": "5444a56a",
   "metadata": {},
   "source": [
    "**Фиксируем инициализацию рандом генераторов для воспроизводимости результатов**"
   ]
  },
  {
   "cell_type": "code",
   "execution_count": 3,
   "id": "868f8ffc",
   "metadata": {
    "ExecuteTime": {
     "end_time": "2023-05-30T01:12:37.134105Z",
     "start_time": "2023-05-30T01:12:37.119062Z"
    }
   },
   "outputs": [],
   "source": [
    "def set_seed(seed=42):\n",
    "    np.random.seed(seed)\n",
    "    random.seed(seed)\n",
    "    torch.manual_seed(seed)\n",
    "    torch.cuda.manual_seed(seed)\n",
    "    torch.backends.cudnn.deterministic = True\n",
    "    torch.backends.cudnn.benchmark = False\n",
    "set_seed()"
   ]
  },
  {
   "cell_type": "markdown",
   "id": "9cc651e4",
   "metadata": {},
   "source": [
    "**Читаем заранее подготовленные и предобработанные датасеты Emocause и EmpatheticDialogues**"
   ]
  },
  {
   "cell_type": "code",
   "execution_count": 4,
   "id": "9651fb7e",
   "metadata": {
    "ExecuteTime": {
     "end_time": "2023-05-30T01:12:38.608557Z",
     "start_time": "2023-05-30T01:12:38.560935Z"
    }
   },
   "outputs": [],
   "source": [
    "with open('./data/emocause/data.pickle', 'rb') as f:\n",
    "    emocause_train, emocause_val, emocause_test = pickle.load(f)\n",
    "with open('./data/empatheticdialogues/data.pickle', 'rb') as f:\n",
    "    empdia_train, empdia_val, empdia_test = pickle.load(f)"
   ]
  },
  {
   "cell_type": "markdown",
   "id": "d6a662c8",
   "metadata": {},
   "source": [
    "**Создаем даталодеры**"
   ]
  },
  {
   "cell_type": "code",
   "execution_count": 5,
   "id": "8b306a36",
   "metadata": {
    "ExecuteTime": {
     "end_time": "2023-05-30T01:12:40.252969Z",
     "start_time": "2023-05-30T01:12:40.247968Z"
    }
   },
   "outputs": [],
   "source": [
    "torch.cuda.empty_cache()\n",
    "batch_size = 16\n",
    "num_workers = 2\n",
    "emocause_train_dataloader = DataLoader(dataset=emocause_train, shuffle=True,\n",
    "                             batch_size=batch_size, drop_last=True, num_workers=num_workers)\n",
    "emocause_val_dataloader = DataLoader(dataset=emocause_val, shuffle=False,\n",
    "                             batch_size=batch_size, drop_last=False, num_workers=num_workers)\n",
    "emocause_test_dataloader = DataLoader(dataset=emocause_test, shuffle=False,\n",
    "                             batch_size=batch_size, drop_last=False, num_workers=num_workers)\n",
    "empdia_train_dataloader = DataLoader(dataset=empdia_train, shuffle=True,\n",
    "                             batch_size=batch_size, drop_last=True, num_workers=num_workers)\n",
    "empdia_val_dataloader = DataLoader(dataset=empdia_val, shuffle=False,\n",
    "                             batch_size=batch_size, drop_last=False, num_workers=num_workers)\n",
    "empdia_test_dataloader = DataLoader(dataset=empdia_test, shuffle=False,\n",
    "                             batch_size=batch_size, drop_last=False, num_workers=num_workers)"
   ]
  },
  {
   "cell_type": "markdown",
   "id": "22068e59",
   "metadata": {},
   "source": [
    "**Определяем модели**"
   ]
  },
  {
   "cell_type": "code",
   "execution_count": 6,
   "id": "e3df67c1",
   "metadata": {
    "ExecuteTime": {
     "end_time": "2023-05-30T01:12:46.359155Z",
     "start_time": "2023-05-30T01:12:43.502942Z"
    }
   },
   "outputs": [
    {
     "name": "stderr",
     "output_type": "stream",
     "text": [
      "Some weights of DebertaV2ForTokenClassification were not initialized from the model checkpoint at sileod/deberta-v3-base-tasksource-nli and are newly initialized because the shapes did not match:\n",
      "- classifier.weight: found shape torch.Size([3, 768]) in the checkpoint and torch.Size([2, 768]) in the model instantiated\n",
      "- classifier.bias: found shape torch.Size([3]) in the checkpoint and torch.Size([2]) in the model instantiated\n",
      "You should probably TRAIN this model on a down-stream task to be able to use it for predictions and inference.\n",
      "Some weights of DebertaV2ForSequenceClassification were not initialized from the model checkpoint at sileod/deberta-v3-base-tasksource-nli and are newly initialized because the shapes did not match:\n",
      "- classifier.weight: found shape torch.Size([3, 768]) in the checkpoint and torch.Size([32, 768]) in the model instantiated\n",
      "- classifier.bias: found shape torch.Size([3]) in the checkpoint and torch.Size([32]) in the model instantiated\n",
      "You should probably TRAIN this model on a down-stream task to be able to use it for predictions and inference.\n"
     ]
    }
   ],
   "source": [
    "model_emo = AutoModelForTokenClassification.from_pretrained(model_name, num_labels=2, ignore_mismatched_sizes=True)\n",
    "model_classification = AutoModelForSequenceClassification.from_pretrained(\n",
    "                        model_name, num_labels=32, ignore_mismatched_sizes=True)"
   ]
  },
  {
   "cell_type": "markdown",
   "id": "c2d18edf",
   "metadata": {},
   "source": [
    "Получаем интерфейс 2-ух моделей, но основная часть у них одинаковая и разные только головы. На самом деле, можно смотреть на это как на одну модель с 2-мя головами."
   ]
  },
  {
   "cell_type": "code",
   "execution_count": 7,
   "id": "96536092",
   "metadata": {
    "ExecuteTime": {
     "end_time": "2023-05-30T01:12:48.333628Z",
     "start_time": "2023-05-30T01:12:48.044484Z"
    }
   },
   "outputs": [
    {
     "data": {
      "text/plain": [
       "DebertaV2ForSequenceClassification(\n",
       "  (deberta): DebertaV2Model(\n",
       "    (embeddings): DebertaV2Embeddings(\n",
       "      (word_embeddings): Embedding(128100, 768, padding_idx=0)\n",
       "      (LayerNorm): LayerNorm((768,), eps=1e-07, elementwise_affine=True)\n",
       "      (dropout): StableDropout()\n",
       "    )\n",
       "    (encoder): DebertaV2Encoder(\n",
       "      (layer): ModuleList(\n",
       "        (0-11): 12 x DebertaV2Layer(\n",
       "          (attention): DebertaV2Attention(\n",
       "            (self): DisentangledSelfAttention(\n",
       "              (query_proj): Linear(in_features=768, out_features=768, bias=True)\n",
       "              (key_proj): Linear(in_features=768, out_features=768, bias=True)\n",
       "              (value_proj): Linear(in_features=768, out_features=768, bias=True)\n",
       "              (pos_dropout): StableDropout()\n",
       "              (dropout): StableDropout()\n",
       "            )\n",
       "            (output): DebertaV2SelfOutput(\n",
       "              (dense): Linear(in_features=768, out_features=768, bias=True)\n",
       "              (LayerNorm): LayerNorm((768,), eps=1e-07, elementwise_affine=True)\n",
       "              (dropout): StableDropout()\n",
       "            )\n",
       "          )\n",
       "          (intermediate): DebertaV2Intermediate(\n",
       "            (dense): Linear(in_features=768, out_features=3072, bias=True)\n",
       "            (intermediate_act_fn): GELUActivation()\n",
       "          )\n",
       "          (output): DebertaV2Output(\n",
       "            (dense): Linear(in_features=3072, out_features=768, bias=True)\n",
       "            (LayerNorm): LayerNorm((768,), eps=1e-07, elementwise_affine=True)\n",
       "            (dropout): StableDropout()\n",
       "          )\n",
       "        )\n",
       "      )\n",
       "      (rel_embeddings): Embedding(512, 768)\n",
       "      (LayerNorm): LayerNorm((768,), eps=1e-07, elementwise_affine=True)\n",
       "    )\n",
       "  )\n",
       "  (pooler): ContextPooler(\n",
       "    (dense): Linear(in_features=768, out_features=768, bias=True)\n",
       "    (dropout): StableDropout()\n",
       "  )\n",
       "  (classifier): Linear(in_features=768, out_features=32, bias=True)\n",
       "  (dropout): StableDropout()\n",
       ")"
      ]
     },
     "execution_count": 7,
     "metadata": {},
     "output_type": "execute_result"
    }
   ],
   "source": [
    "model_classification.deberta = model_emo.deberta\n",
    "\n",
    "model_emo.cuda()\n",
    "model_classification.cuda()"
   ]
  },
  {
   "cell_type": "markdown",
   "id": "8138b2b1",
   "metadata": {},
   "source": [
    "**Процесс обучения и тестирования токен классификации (Emocause)**"
   ]
  },
  {
   "cell_type": "code",
   "execution_count": 8,
   "id": "48cd360e",
   "metadata": {
    "ExecuteTime": {
     "end_time": "2023-05-30T01:12:50.807946Z",
     "start_time": "2023-05-30T01:12:50.787319Z"
    }
   },
   "outputs": [],
   "source": [
    "# emo_weights = torch.tensor([1., 4.]).cuda()\n",
    "def emocause_train_loop(dataloader, model, optimizer):\n",
    "    model.train()\n",
    "    for batch in tqdm(dataloader):\n",
    "        optimizer.zero_grad()\n",
    "        del batch['count']\n",
    "        batch = {k: v.cuda() for k, v in batch.items()}\n",
    "#         logits = model(**batch).logits.reshape([16*256, 2])\n",
    "#         y_true = batch[\"labels\"].reshape([16*256])\n",
    "#         loss = cross_entropy(logits, y_true, weight=emo_weights)\n",
    "        outputs = model(**batch)\n",
    "        loss = outputs.loss\n",
    "        loss.backward()\n",
    "        optimizer.step()\n",
    "        \n",
    "\n",
    "def emocause_test_loop(dataloader, model):\n",
    "    model.eval()\n",
    "    top1, top3, top5 = [], [], []\n",
    "    with torch.no_grad():\n",
    "        for batch in tqdm(dataloader):\n",
    "            counts = batch['count']\n",
    "            del batch['count']\n",
    "            batch = {k: v.cuda() for k, v in batch.items()}\n",
    "            logits = model(**batch).logits\n",
    "            proba = softmax(logits, dim=-1)[:,:,1]\n",
    "            top_predictions = proba.argsort(dim=1, descending=True)\n",
    "            labels = batch['labels']\n",
    "            for i, instance in enumerate(top_predictions):\n",
    "                t1, t3, t5 = [], [], []\n",
    "                for token_idx in instance:\n",
    "                    if labels[i][token_idx] != -100:\n",
    "                        if len(t1) < 1:\n",
    "                            t1.append(labels[i][token_idx].cpu())\n",
    "                        if len(t3) < 3:\n",
    "                            t3.append(labels[i][token_idx].cpu())\n",
    "                        if len(t5) < 5:\n",
    "                            t5.append(labels[i][token_idx].cpu())\n",
    "                        else:\n",
    "                            break\n",
    "                count = counts[i]\n",
    "                top1.append(sum(t1) / count)\n",
    "                top3.append(sum(t3) / count)\n",
    "                top5.append(sum(t5) / count)\n",
    "    print(\"---TOKEN LABELING TEST METRICS---\")\n",
    "    print(f\"Top-1 Recall: {sum(top1) / len(top1)}\")\n",
    "    print(f\"Top-3 Recall: {sum(top3) / len(top3)}\")\n",
    "    print(f\"Top-5 Recall: {sum(top5) / len(top5)}\")"
   ]
  },
  {
   "cell_type": "markdown",
   "id": "6265427a",
   "metadata": {},
   "source": [
    "**Процесс обучения и тестирования просто классификации (EmpatheticDialogues)**"
   ]
  },
  {
   "cell_type": "code",
   "execution_count": 9,
   "id": "da927785",
   "metadata": {
    "ExecuteTime": {
     "end_time": "2023-05-30T01:12:52.460919Z",
     "start_time": "2023-05-30T01:12:52.454916Z"
    }
   },
   "outputs": [],
   "source": [
    "def classification_train_loop(dataloader, model, optimizer):\n",
    "    model.train()\n",
    "    acc = evaluate.load(\"accuracy\")\n",
    "    for batch in tqdm(dataloader):\n",
    "        optimizer.zero_grad()\n",
    "        batch = {k: v.cuda() for k, v in batch.items()}\n",
    "        outputs = model(**batch)\n",
    "        loss = outputs.loss\n",
    "        loss.backward()\n",
    "        optimizer.step()\n",
    "        predictions = torch.argmax(outputs.logits, dim=-1)\n",
    "        acc.add_batch(predictions=predictions, references=batch[\"labels\"])\n",
    "    print(\"---CLASSIFICATION TRAIN METRICS---\")\n",
    "    print(acc.compute())\n",
    "        \n",
    "\n",
    "def classification_test_loop(dataloader, model):\n",
    "    model.eval()\n",
    "    acc = evaluate.load(\"accuracy\")\n",
    "#     y_pred, y = [], []\n",
    "    with torch.no_grad():\n",
    "        for batch in tqdm(dataloader):\n",
    "            batch = {k: v.cuda() for k, v in batch.items()}\n",
    "            with torch.no_grad():\n",
    "                outputs = model(**batch)\n",
    "            predictions = torch.argmax(outputs.logits, dim=-1)\n",
    "            acc.add_batch(predictions=predictions, references=batch[\"labels\"])\n",
    "#             y_pred.extend(predictions)\n",
    "#             y.extend(batch[\"labels\"])\n",
    "        print(\"---CLASSIFICATION TEST METRICS---\")\n",
    "        print(acc.compute())\n",
    "#     return y_pred, y"
   ]
  },
  {
   "cell_type": "code",
   "execution_count": 10,
   "id": "84d1ac4c",
   "metadata": {
    "ExecuteTime": {
     "end_time": "2023-05-30T01:12:54.040508Z",
     "start_time": "2023-05-30T01:12:54.035198Z"
    }
   },
   "outputs": [],
   "source": [
    "optimizer = Adam(model_classification.parameters(), lr=2e-5)\n",
    "optimizer.add_param_group({'params': model_emo.classifier.parameters()})"
   ]
  },
  {
   "cell_type": "markdown",
   "id": "5f753be8",
   "metadata": {},
   "source": [
    "**Обучение и валидация**"
   ]
  },
  {
   "cell_type": "code",
   "execution_count": 11,
   "id": "798f0a45",
   "metadata": {
    "ExecuteTime": {
     "end_time": "2023-05-30T02:19:03.365892Z",
     "start_time": "2023-05-30T01:12:56.603030Z"
    }
   },
   "outputs": [
    {
     "name": "stdout",
     "output_type": "stream",
     "text": [
      "\n",
      "Epoch 1\n"
     ]
    },
    {
     "name": "stderr",
     "output_type": "stream",
     "text": [
      "100%|████████████████████████████████████████████████████████████████████████████████| 188/188 [01:59<00:00,  1.57it/s]\n"
     ]
    },
    {
     "name": "stdout",
     "output_type": "stream",
     "text": [
      "\n",
      "Epoch 2\n"
     ]
    },
    {
     "name": "stderr",
     "output_type": "stream",
     "text": [
      "100%|████████████████████████████████████████████████████████████████████████████████| 188/188 [01:58<00:00,  1.58it/s]\n",
      "100%|██████████████████████████████████████████████████████████████████████████████████| 48/48 [00:25<00:00,  1.87it/s]\n"
     ]
    },
    {
     "name": "stdout",
     "output_type": "stream",
     "text": [
      "---TOKEN LABELING TEST METRICS---\n",
      "Top-1 Recall: tensor([0.3898])\n",
      "Top-3 Recall: tensor([0.7707])\n",
      "Top-5 Recall: tensor([0.9053])\n"
     ]
    },
    {
     "name": "stderr",
     "output_type": "stream",
     "text": [
      "100%|██████████████████████████████████████████████████████████████████████████████| 1112/1112 [11:18<00:00,  1.64it/s]\n"
     ]
    },
    {
     "name": "stdout",
     "output_type": "stream",
     "text": [
      "---CLASSIFICATION TRAIN METRICS---\n",
      "{'accuracy': 0.43884892086330934}\n"
     ]
    },
    {
     "name": "stderr",
     "output_type": "stream",
     "text": [
      "100%|████████████████████████████████████████████████████████████████████████████████| 173/173 [00:36<00:00,  4.74it/s]\n"
     ]
    },
    {
     "name": "stdout",
     "output_type": "stream",
     "text": [
      "---CLASSIFICATION TEST METRICS---\n",
      "{'accuracy': 0.5697211155378487}\n",
      "\n",
      "Epoch 3\n"
     ]
    },
    {
     "name": "stderr",
     "output_type": "stream",
     "text": [
      "100%|████████████████████████████████████████████████████████████████████████████████| 188/188 [01:58<00:00,  1.58it/s]\n"
     ]
    },
    {
     "name": "stdout",
     "output_type": "stream",
     "text": [
      "\n",
      "Epoch 4\n"
     ]
    },
    {
     "name": "stderr",
     "output_type": "stream",
     "text": [
      "100%|████████████████████████████████████████████████████████████████████████████████| 188/188 [01:59<00:00,  1.57it/s]\n",
      "100%|██████████████████████████████████████████████████████████████████████████████████| 48/48 [00:25<00:00,  1.90it/s]\n"
     ]
    },
    {
     "name": "stdout",
     "output_type": "stream",
     "text": [
      "---TOKEN LABELING TEST METRICS---\n",
      "Top-1 Recall: tensor([0.3903])\n",
      "Top-3 Recall: tensor([0.7695])\n",
      "Top-5 Recall: tensor([0.9067])\n"
     ]
    },
    {
     "name": "stderr",
     "output_type": "stream",
     "text": [
      "100%|██████████████████████████████████████████████████████████████████████████████| 1112/1112 [11:26<00:00,  1.62it/s]\n"
     ]
    },
    {
     "name": "stdout",
     "output_type": "stream",
     "text": [
      "---CLASSIFICATION TRAIN METRICS---\n",
      "{'accuracy': 0.608363309352518}\n"
     ]
    },
    {
     "name": "stderr",
     "output_type": "stream",
     "text": [
      "100%|████████████████████████████████████████████████████████████████████████████████| 173/173 [00:36<00:00,  4.77it/s]\n"
     ]
    },
    {
     "name": "stdout",
     "output_type": "stream",
     "text": [
      "---CLASSIFICATION TEST METRICS---\n",
      "{'accuracy': 0.5874683085838465}\n",
      "\n",
      "Epoch 5\n"
     ]
    },
    {
     "name": "stderr",
     "output_type": "stream",
     "text": [
      "100%|████████████████████████████████████████████████████████████████████████████████| 188/188 [01:59<00:00,  1.57it/s]\n"
     ]
    },
    {
     "name": "stdout",
     "output_type": "stream",
     "text": [
      "\n",
      "Epoch 6\n"
     ]
    },
    {
     "name": "stderr",
     "output_type": "stream",
     "text": [
      "100%|████████████████████████████████████████████████████████████████████████████████| 188/188 [02:01<00:00,  1.55it/s]\n",
      "100%|██████████████████████████████████████████████████████████████████████████████████| 48/48 [00:23<00:00,  2.01it/s]\n"
     ]
    },
    {
     "name": "stdout",
     "output_type": "stream",
     "text": [
      "---TOKEN LABELING TEST METRICS---\n",
      "Top-1 Recall: tensor([0.3884])\n",
      "Top-3 Recall: tensor([0.7648])\n",
      "Top-5 Recall: tensor([0.9057])\n"
     ]
    },
    {
     "name": "stderr",
     "output_type": "stream",
     "text": [
      "100%|██████████████████████████████████████████████████████████████████████████████| 1112/1112 [11:28<00:00,  1.62it/s]\n"
     ]
    },
    {
     "name": "stdout",
     "output_type": "stream",
     "text": [
      "---CLASSIFICATION TRAIN METRICS---\n",
      "{'accuracy': 0.6755845323741008}\n"
     ]
    },
    {
     "name": "stderr",
     "output_type": "stream",
     "text": [
      "100%|████████████████████████████████████████████████████████████████████████████████| 173/173 [00:37<00:00,  4.64it/s]\n"
     ]
    },
    {
     "name": "stdout",
     "output_type": "stream",
     "text": [
      "---CLASSIFICATION TEST METRICS---\n",
      "{'accuracy': 0.6091995653748642}\n",
      "\n",
      "Epoch 7\n"
     ]
    },
    {
     "name": "stderr",
     "output_type": "stream",
     "text": [
      "100%|████████████████████████████████████████████████████████████████████████████████| 188/188 [01:58<00:00,  1.59it/s]\n"
     ]
    },
    {
     "name": "stdout",
     "output_type": "stream",
     "text": [
      "\n",
      "Epoch 8\n"
     ]
    },
    {
     "name": "stderr",
     "output_type": "stream",
     "text": [
      "100%|████████████████████████████████████████████████████████████████████████████████| 188/188 [01:58<00:00,  1.58it/s]\n",
      "100%|██████████████████████████████████████████████████████████████████████████████████| 48/48 [00:27<00:00,  1.76it/s]\n"
     ]
    },
    {
     "name": "stdout",
     "output_type": "stream",
     "text": [
      "---TOKEN LABELING TEST METRICS---\n",
      "Top-1 Recall: tensor([0.3864])\n",
      "Top-3 Recall: tensor([0.7630])\n",
      "Top-5 Recall: tensor([0.9097])\n"
     ]
    },
    {
     "name": "stderr",
     "output_type": "stream",
     "text": [
      "100%|██████████████████████████████████████████████████████████████████████████████| 1112/1112 [11:30<00:00,  1.61it/s]\n"
     ]
    },
    {
     "name": "stdout",
     "output_type": "stream",
     "text": [
      "---CLASSIFICATION TRAIN METRICS---\n",
      "{'accuracy': 0.7302158273381295}\n"
     ]
    },
    {
     "name": "stderr",
     "output_type": "stream",
     "text": [
      "100%|████████████████████████████████████████████████████████████████████████████████| 173/173 [00:37<00:00,  4.60it/s]\n"
     ]
    },
    {
     "name": "stdout",
     "output_type": "stream",
     "text": [
      "---CLASSIFICATION TEST METRICS---\n",
      "{'accuracy': 0.5983339369793553}\n"
     ]
    }
   ],
   "source": [
    "epochs = 8\n",
    "for epoch in range(1, epochs + 1):\n",
    "    print(f\"\\nEpoch {epoch}\")\n",
    "    emocause_train_loop(emocause_train_dataloader, model_emo, optimizer)\n",
    "    if epoch % 2 == 0:\n",
    "        emocause_test_loop(emocause_val_dataloader, model_emo)\n",
    "        classification_train_loop(empdia_train_dataloader, model_classification, optimizer)\n",
    "        classification_test_loop(empdia_val_dataloader, model_classification)\n",
    "        torch.save(model_emo.state_dict(), f\"./tmp_models/model_emo{epoch}.bin\")\n",
    "        torch.save(model_classification.state_dict(), f\"./tmp_models/model_class{epoch}.bin\")"
   ]
  },
  {
   "cell_type": "markdown",
   "id": "9350977c",
   "metadata": {},
   "source": [
    "**Проверим метрики уже на тестовых датасетах**"
   ]
  },
  {
   "cell_type": "code",
   "execution_count": 13,
   "id": "1bbdd75d",
   "metadata": {
    "ExecuteTime": {
     "end_time": "2023-05-30T17:51:38.895346Z",
     "start_time": "2023-05-30T17:49:47.114720Z"
    }
   },
   "outputs": [
    {
     "name": "stderr",
     "output_type": "stream",
     "text": [
      "100%|██████████████████████████████████████████████████████████████████████████████████| 53/53 [01:17<00:00,  1.45s/it]\n"
     ]
    },
    {
     "name": "stdout",
     "output_type": "stream",
     "text": [
      "---TOKEN LABELING TEST METRICS---\n",
      "Top-1 Recall: tensor([0.2496])\n",
      "Top-3 Recall: tensor([0.6230])\n",
      "Top-5 Recall: tensor([0.8061])\n"
     ]
    },
    {
     "name": "stderr",
     "output_type": "stream",
     "text": [
      "100%|████████████████████████████████████████████████████████████████████████████████| 159/159 [00:33<00:00,  4.73it/s]"
     ]
    },
    {
     "name": "stdout",
     "output_type": "stream",
     "text": [
      "---CLASSIFICATION TEST METRICS---\n",
      "{'accuracy': 0.5895316804407713}\n"
     ]
    },
    {
     "name": "stderr",
     "output_type": "stream",
     "text": [
      "\n"
     ]
    }
   ],
   "source": [
    "emocause_test_loop(emocause_test_dataloader, model_emo)\n",
    "classification_test_loop(empdia_test_dataloader, model_classification)"
   ]
  }
 ],
 "metadata": {
  "kernelspec": {
   "display_name": "Python 3 (ipykernel)",
   "language": "python",
   "name": "python3"
  },
  "language_info": {
   "codemirror_mode": {
    "name": "ipython",
    "version": 3
   },
   "file_extension": ".py",
   "mimetype": "text/x-python",
   "name": "python",
   "nbconvert_exporter": "python",
   "pygments_lexer": "ipython3",
   "version": "3.10.9"
  },
  "varInspector": {
   "cols": {
    "lenName": 16,
    "lenType": 16,
    "lenVar": 40
   },
   "kernels_config": {
    "python": {
     "delete_cmd_postfix": "",
     "delete_cmd_prefix": "del ",
     "library": "var_list.py",
     "varRefreshCmd": "print(var_dic_list())"
    },
    "r": {
     "delete_cmd_postfix": ") ",
     "delete_cmd_prefix": "rm(",
     "library": "var_list.r",
     "varRefreshCmd": "cat(var_dic_list()) "
    }
   },
   "types_to_exclude": [
    "module",
    "function",
    "builtin_function_or_method",
    "instance",
    "_Feature"
   ],
   "window_display": false
  }
 },
 "nbformat": 4,
 "nbformat_minor": 5
}
